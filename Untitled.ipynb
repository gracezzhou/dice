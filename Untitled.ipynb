{
 "cells": [
  {
   "cell_type": "code",
   "execution_count": 119,
   "id": "e80d7ad9-27c5-4127-a3d9-28da5127569d",
   "metadata": {},
   "outputs": [],
   "source": [
    "# Strategy\n",
    "import numpy as np\n",
    "def get_p2_bid(dice, p1_bid = None):\n",
    "    if p1_bid == (2, 1) and (dice[0] or dice[1] == 1):\n",
    "        return (3, 1)\n",
    "    elif p1_bid == (2, 1) and (dice[0] and dice[1] == 1):\n",
    "        return (4, 1)\n",
    "    else:\n",
    "        return (2, np.max(dice))\n",
    "\n",
    "def get_p1_bid(dice, p2_bid = None):\n",
    "    if p2_bid is None:\n",
    "        return (2, 1)\n",
    "    else:\n",
    "        return \"CALL\""
   ]
  },
  {
   "cell_type": "code",
   "execution_count": 120,
   "id": "267faf2e-f249-4d89-ae32-42d9406253e8",
   "metadata": {},
   "outputs": [],
   "source": [
    "from random import randint\n",
    "# Gameplay\n",
    "def get_random_dice(num_dice):\n",
    "    return [randint(1, 6) for _ in range(num_dice)]\n",
    "\n",
    "\n",
    "def play_turn(p1, p2, p1_turn=True):\n",
    "    \"\"\" Play a turn.\n",
    "\n",
    "    Go back and forth on the strategies until someone calls.\n",
    "\n",
    "    Returns:\n",
    "       p1_is_winner (True if player 1 wins)\n",
    "    \"\"\"\n",
    "    current_bid = None\n",
    "    while True:\n",
    "        if p1_turn:\n",
    "            next_bid = get_p1_bid(p1, current_bid)\n",
    "        else:\n",
    "            next_bid = get_p2_bid(p2, current_bid)\n",
    "\n",
    "        if next_bid == \"CALL\":\n",
    "            break\n",
    "\n",
    "        assert(current_bid is None or next_bid > current_bid)\n",
    "\n",
    "        # Set the current bid to the most recent and roll the turn over\n",
    "        current_bid = next_bid\n",
    "        p1_turn = not p1_turn\n",
    "\n",
    "    bid_satisfied = check_bid(current_bid, p1 + p2)\n",
    "    # Turn variable indicates the person who made the call\n",
    "    # Player 2 wins if he called (his turn) and bid not satisfied or vice versa\n",
    "    return p1_turn != bid_satisfied\n",
    "\n",
    "\n",
    "def check_bid(bid, dice):\n",
    "    \"\"\" Return true if a bid has been satisfied given some dice \"\"\"\n",
    "    total = 0\n",
    "    for die in dice:\n",
    "        if die == bid[1]:\n",
    "            total += 1\n",
    "    return total >= bid[0]\n",
    "\n",
    "def run_simulation(p1_turn = True):\n",
    "    \"\"\" Run a simulation with 2 for p1 and p2\n",
    "\n",
    "    Returns true if p1 wins\n",
    "    \"\"\"\n",
    "    p1 = [1, 1]\n",
    "    p2 = get_random_dice(2)\n",
    "    p1_wins = play_turn(p1, p2, p1_turn)\n",
    "    return p1_wins\n"
   ]
  },
  {
   "cell_type": "code",
   "execution_count": 121,
   "id": "52738f45-c2b2-4d57-b2b8-c3492f5885cb",
   "metadata": {},
   "outputs": [
    {
     "name": "stdout",
     "output_type": "stream",
     "text": [
      "Simulation Complete\n",
      "-------------------\n",
      "Num Simulations: 10,000\n",
      "Took:            0.0 seconds\n",
      "P1 Wins:       6,827\n",
      "Win Percent:     68.27%\n",
      "Wins 1 in 1.46 times\n"
     ]
    }
   ],
   "source": [
    "# Main console\n",
    "from time import monotonic\n",
    "\n",
    "NUM_SIMULATIONS = 10000\n",
    "\n",
    "start = monotonic()\n",
    "wincount = 0\n",
    "for i in range(NUM_SIMULATIONS):\n",
    "    if run_simulation() == True:\n",
    "        wincount += 1\n",
    "duration = monotonic() - start\n",
    "print(\"Simulation Complete\")\n",
    "print(\"-------------------\")\n",
    "print(\"Num Simulations: {:,}\".format(NUM_SIMULATIONS))\n",
    "print(\"Took:            {0:,.1f} seconds\".format(duration))\n",
    "print(\"P1 Wins:       {:,}\".format(wincount))\n",
    "print(\"Win Percent:     {:.2%}\".format(wincount / NUM_SIMULATIONS))\n",
    "print(\n",
    "    \"Wins 1 in {} times\".format(\n",
    "        \"Infinite\"\n",
    "        if wincount == 0 else \"{0:.2f}\".format(\n",
    "            NUM_SIMULATIONS / wincount)))\n"
   ]
  }
 ],
 "metadata": {
  "kernelspec": {
   "display_name": "Python 3 (ipykernel)",
   "language": "python",
   "name": "python3"
  },
  "language_info": {
   "codemirror_mode": {
    "name": "ipython",
    "version": 3
   },
   "file_extension": ".py",
   "mimetype": "text/x-python",
   "name": "python",
   "nbconvert_exporter": "python",
   "pygments_lexer": "ipython3",
   "version": "3.12.4"
  }
 },
 "nbformat": 4,
 "nbformat_minor": 5
}
